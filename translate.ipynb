{
 "cells": [
  {
   "cell_type": "code",
   "execution_count": 1,
   "id": "74ea98f7-40be-4309-a5c6-ecf866be98aa",
   "metadata": {
    "editable": true,
    "slideshow": {
     "slide_type": ""
    },
    "tags": []
   },
   "outputs": [],
   "source": [
    "import os\n",
    "import re\n",
    "from nltk.tokenize import word_tokenize\n",
    "import nltk\n",
    "import string\n",
    "import subprocess"
   ]
  },
  {
   "cell_type": "code",
   "execution_count": 51,
   "id": "6caaf893-fb68-4a99-ae54-ca68f16896b4",
   "metadata": {
    "editable": true,
    "slideshow": {
     "slide_type": ""
    },
    "tags": []
   },
   "outputs": [],
   "source": [
    "regnumber = re.compile(r'\\d+(?:,\\d*)?')\n",
    "\n",
    "def fix(arr):\n",
    "    input = '\\n'.join(arr).encode(\"ascii\")\n",
    "    procStr = [\"onmt_translate\", \"-model\", \"final_model.pt\", \"-src\", \"/dev/stdin\", \"-output\", \"/tmp/translation.txt\"]\n",
    "    proc = subprocess.Popen(procStr, stdin=subprocess.PIPE, stdout=subprocess.DEVNULL, stderr=subprocess.DEVNULL)\n",
    "    proc.communicate(input=input)\n",
    "    f = open(\"/tmp/translation.txt\", \"r\")\n",
    "    out = f.read()\n",
    "    f.close()\n",
    "    return [x.replace(' ','').replace('##',' ') for x in out.split('\\n')]\n",
    "\n",
    "def build_structure(input, acc):\n",
    "    if len(input) == 0:\n",
    "        return [(\"str\", acc)]\n",
    "    elif input[0] in (list(string.punctuation.replace(\"'\",\"\")) + [\"''\",\"``\"]):\n",
    "        return [(\"str\",acc)] + [(\"punct\",input[0]+' ')] + build_structure(input[1:], '')\n",
    "    else:\n",
    "        return build_structure(input[1:], acc + input[0])\n",
    "\n",
    "def fix_text(text):\n",
    "    tokens = word_tokenize(text)\n",
    "    structure = [(type,str) for (type,str) in build_structure(tokens,'') if str]\n",
    "    str_sequences = [(index,' '.join(str)) for (index,(type,str)) in enumerate(structure) if type == \"str\"]\n",
    "    translated_arr = fix([seq for _, seq in str_sequences])\n",
    "    translated_sequences = [(index,translated) for (translated,(index,original)) in zip(translated_arr,str_sequences)]\n",
    "    not_str_sequences = [(index,str) for (index,(type,str)) in enumerate(structure) if type != \"str\"]\n",
    "    translated_structure = sorted(translated_sequences + not_str_sequences, key=lambda x: x[0])\n",
    "    return ''.join([str for _,str in translated_structure])\n",
    "    "
   ]
  },
  {
   "cell_type": "code",
   "execution_count": 7,
   "id": "6a806107-70f1-4593-a99d-33084c560cfa",
   "metadata": {},
   "outputs": [
    {
     "name": "stdout",
     "output_type": "stream",
     "text": [
      "leveraging experience from all agents\n",
      "central control are unrealistic in\n",
      "which incoming flows to schedule\n",
      "deep learning is beautiful\n",
      "coordination decisions individually in parallel\n"
     ]
    }
   ],
   "source": [
    "print(fix_text('lev eragingex periencefr omallagen ts')) #leveraging experience from all agents\n",
    "print(fix_text('ce ntralcon trola re un reali stici n')) #central control are unrealistic in\n",
    "print(fix_text('wh ichinc omi ngfl owst osch edu le')) #which incoming flows to schedule\n",
    "print(fix_text('deeple arn ing is beau ti ful')) #deep learning is beautiful\n",
    "print(fix_text('coor dinationdec isionsindivid ually inpa rall el')) #coordination decisions individually in parallel"
   ]
  },
  {
   "cell_type": "code",
   "execution_count": 9,
   "id": "1955af91-9385-480d-93d8-0e27b55f9ce0",
   "metadata": {},
   "outputs": [
    {
     "data": {
      "text/plain": [
       "'As mobile edge computing emerges as a paradigm to meet the ever-increasing computation demands from real-time Internet of Things applications in era, the development trends of which a remainly divided into two, with one being MEC with advanced computing architectures, and the other being MEC with high efficiency for sustainable operations. We are committed to taking advantage of these two trends to explore a novel multi-tier edge computing scenario with hierarchical task of floading and green energy provisioning via leveraging the energy harvesting technique. '"
      ]
     },
     "execution_count": 9,
     "metadata": {},
     "output_type": "execute_result"
    }
   ],
   "source": [
    "#fix_block(' '.join(['a', 'c', 'c', 'e', 'l', 'e', 'r', 'a', 't', 'e', 'd', 'e', 'r', 'o', 's', 'i', 'o', 'n', 'i', 's', 'm', 'o', 'r', 'e', 'r', 'a', 'p', 'i', 'd', 't', 'h', 'a', 'n', 'n', 'o', 'r', 'm', 'a', 'l', 'e', 'r', 'o', 's', 'i', 'o', 'n', 'a', 'n', 'd', 'r', 'e', 's', 'u', 'l', 't', 's', 'p', 'r', 'i', 'm', 'a', 'r', 'i', 'l', 'y', 'f', 'r', 'o', 'm', 'm', 'a', 'n', \"'\", 's', 'a', 'c', 't', 'i', 'v', 'i', 't', 'i', 'e', 's']))\n",
    "fix_text(\"\"\"\n",
    "As mobile edge computing emerges as a paradigm to meet the ever-increasing computation demands from real-time Internet of Things applications in era, the development trends of which are mainly divided into two, with one being MEC with advanced computing architectures, and the other being MEC with high efficiency for sustainable operations. We are committed to taking advantage of these two trends to explore a novel multi-tier edge computing scenario with hierarchical task offloading and green energy provisioning via leveraging the energy harvesting technique.\n",
    "\"\"\")"
   ]
  },
  {
   "cell_type": "code",
   "execution_count": 11,
   "id": "b2c916cb-f4f7-45a5-9152-2d98ee68b921",
   "metadata": {},
   "outputs": [
    {
     "data": {
      "text/plain": [
       "\"Tony O'Connor is a former international rower from Ireland. He is a double Olympian who represented Ireland and won five medals at the World Championships as part of a light weight pair. \""
      ]
     },
     "execution_count": 11,
     "metadata": {},
     "output_type": "execute_result"
    }
   ],
   "source": [
    "fix_text(\"\"\"\n",
    "Tony O'Connor is a former international rower from Ireland. He is a double Olympian who represented Ireland and won five medals at the World Championships as part of a lightweight pair.\n",
    "\"\"\")"
   ]
  },
  {
   "cell_type": "code",
   "execution_count": 50,
   "id": "bd41497a-583a-410d-b3de-e580bbcf4949",
   "metadata": {},
   "outputs": [
    {
     "data": {
      "text/plain": [
       "'Information retrieval did not begin with the Web. In response to various challenges of providing information access, the field of I Revolved to give principled approaches to searching various forms of content. The field be-gan with scientific publications and library records but soon spread to other forms of content, particularly those of information professionals, such as journalists, lawyers, and doctors. Much of the scientific research on IR has occurred in these contexts, and much of the continued practice of IR deals with providing access to unstructured information in various corporate and governmental domains, and this workforms much of the foundation of our book. '"
      ]
     },
     "execution_count": 50,
     "metadata": {},
     "output_type": "execute_result"
    }
   ],
   "source": [
    "fix_text(\"\"\"\n",
    "Information retrieval did not begin with the Web. In response to various challenges of providing information access, the field of IR evolved to give principled approaches to searching various forms of content. The field be- gan with scientific publications and library records but soon spread to other forms of content, particularly those of information professionals, such as journalists, lawyers, and doctors. Much of the scientific research on IR has occurred in these contexts, and much of the continued practice of IR deals with providing access to unstructured information in various corporate and governmental domains, and this work forms much of the foundation of our book.\"\"\")"
   ]
  },
  {
   "cell_type": "code",
   "execution_count": 37,
   "id": "dc682aee-5273-4069-98d1-5d08f4b4ff49",
   "metadata": {
    "editable": true,
    "slideshow": {
     "slide_type": ""
    },
    "tags": []
   },
   "outputs": [
    {
     "data": {
      "text/plain": [
       "'In 1624, a Franciscan Mission established a reduction for the indigenous tribes of the area named Santo Domingo Soriano. Inspite of interruptions in its existence, it is considered the earliest populated centre of the actual Uruguay. Eventually, in its place Villa Soria now as founded. [ citation needed] The first division of Uruguay in departments happened on 27 January 1816. At the time, eight departments were formed, with Soriano being one of them. When the first constitution was signed in 1830, Soriano Department was one of the nine original departments of the Republic. '"
      ]
     },
     "execution_count": 37,
     "metadata": {},
     "output_type": "execute_result"
    }
   ],
   "source": [
    "fix_text(\"\"\"\n",
    "In 1624, a Franciscan Mission established a reduction for the indigenous tribes of the area named Santo Domingo Soriano. In spite of interruptions in its existence, it is considered the earliest populated centre of the actual Uruguay. Eventually, in its place Villa Soriano was founded.[citation needed]\n",
    "The first division of Uruguay in departments happened on 27 January 1816. At the time, eight departments were formed, with Soriano being one of them. When the first constitution was signed in 1830, Soriano Department was one of the nine original departments of the Republic.\n",
    "\"\"\")"
   ]
  }
 ],
 "metadata": {
  "kernelspec": {
   "display_name": "Python 3 (ipykernel)",
   "language": "python",
   "name": "python3"
  },
  "language_info": {
   "codemirror_mode": {
    "name": "ipython",
    "version": 3
   },
   "file_extension": ".py",
   "mimetype": "text/x-python",
   "name": "python",
   "nbconvert_exporter": "python",
   "pygments_lexer": "ipython3",
   "version": "3.11.4"
  }
 },
 "nbformat": 4,
 "nbformat_minor": 5
}
