{
 "cells": [
  {
   "cell_type": "code",
   "execution_count": 1,
   "id": "067b7748-8db5-4276-9ced-e82a01e94d59",
   "metadata": {
    "editable": true,
    "slideshow": {
     "slide_type": ""
    },
    "tags": []
   },
   "outputs": [],
   "source": [
    "import pandas as pd\n",
    "import numpy as np"
   ]
  },
  {
   "cell_type": "code",
   "execution_count": 6,
   "id": "a7fabcd6-b094-42a3-8ff2-cd343f9dbbb0",
   "metadata": {
    "editable": true,
    "slideshow": {
     "slide_type": ""
    },
    "tags": []
   },
   "outputs": [],
   "source": [
    "df1 = pd.read_csv('dataset1.txt',header=None, sep=\"\\t\")\n",
    "df2 = pd.read_csv('dataset2.txt',header=None, sep=\"\\t\")\n",
    "df3 = pd.read_csv('dataset3.txt',header=None, sep=\"\\t\")\n",
    "df4 = pd.read_csv('dataset4.txt',header=None, sep=\"\\t\")\n",
    "df5 = pd.read_csv('dataset5.txt',header=None, sep=\"\\t\")"
   ]
  },
  {
   "cell_type": "code",
   "execution_count": 7,
   "id": "2bf2dcc1-89c8-4a5c-ae9e-2ab7f82561ae",
   "metadata": {},
   "outputs": [],
   "source": [
    "df = pd.concat([df1,df2,df3,df4,df5], axis=0, ignore_index=True)"
   ]
  },
  {
   "cell_type": "code",
   "execution_count": 8,
   "id": "8240d366-935c-4c22-ab63-551f50325806",
   "metadata": {},
   "outputs": [],
   "source": [
    "df = df.drop_duplicates(subset=[0])"
   ]
  },
  {
   "cell_type": "code",
   "execution_count": 9,
   "id": "129a5239-adda-4d28-8c5c-22b5df71a02e",
   "metadata": {},
   "outputs": [],
   "source": [
    "SEQUENCE_LENGTH = 200"
   ]
  },
  {
   "cell_type": "code",
   "execution_count": 10,
   "id": "2dfcf0a0-8fa4-42be-8e95-9b918fa06ec9",
   "metadata": {},
   "outputs": [],
   "source": [
    "def max_x_chars(max_len):\n",
    "    def truncate_sentence(str):\n",
    "        splitted_str = str.split(\" \")\n",
    "        word_lengths = [len(w) for w in splitted_str]\n",
    "        cum_sum = np.cumsum(word_lengths)\n",
    "        end = [i for i,x in enumerate(cum_sum) if x <= max_len][-1]\n",
    "        return ' '.join(splitted_str[:end+1])\n",
    "    return truncate_sentence\n",
    "\n",
    "truncate = max_x_chars(SEQUENCE_LENGTH)"
   ]
  },
  {
   "cell_type": "code",
   "execution_count": 11,
   "id": "91dd36f8-d818-477d-9301-63e75b6dfccd",
   "metadata": {},
   "outputs": [
    {
     "data": {
      "text/plain": [
       "5784637"
      ]
     },
     "execution_count": 11,
     "metadata": {},
     "output_type": "execute_result"
    }
   ],
   "source": [
    "df = df[df[0].apply(lambda o: type(o) is str)]\n",
    "len(df)"
   ]
  },
  {
   "cell_type": "code",
   "execution_count": 12,
   "id": "c2b54cbe-e6a0-4e24-a0e3-06d69deebf26",
   "metadata": {
    "editable": true,
    "slideshow": {
     "slide_type": ""
    },
    "tags": []
   },
   "outputs": [],
   "source": [
    "df[0] = df[0].apply(truncate)"
   ]
  },
  {
   "cell_type": "code",
   "execution_count": 13,
   "id": "9c8e47b9-f0c7-4550-854c-899a9796addb",
   "metadata": {},
   "outputs": [
    {
     "name": "stdout",
     "output_type": "stream",
     "text": [
      "5784637\n"
     ]
    },
    {
     "data": {
      "text/html": [
       "<div>\n",
       "<style scoped>\n",
       "    .dataframe tbody tr th:only-of-type {\n",
       "        vertical-align: middle;\n",
       "    }\n",
       "\n",
       "    .dataframe tbody tr th {\n",
       "        vertical-align: top;\n",
       "    }\n",
       "\n",
       "    .dataframe thead th {\n",
       "        text-align: right;\n",
       "    }\n",
       "</style>\n",
       "<table border=\"1\" class=\"dataframe\">\n",
       "  <thead>\n",
       "    <tr style=\"text-align: right;\">\n",
       "      <th></th>\n",
       "      <th>0</th>\n",
       "      <th>original</th>\n",
       "      <th>expected</th>\n",
       "      <th>sentence</th>\n",
       "    </tr>\n",
       "  </thead>\n",
       "  <tbody>\n",
       "    <tr>\n",
       "      <th>0</th>\n",
       "      <td>NEW ORLEANS — Whenever a Virginia Tech offensi...</td>\n",
       "      <td>NEW ORLEANS — Whenever a Virginia Tech offensi...</td>\n",
       "      <td>N E W ## O R L E A N S ## — ## W h e n e v e r...</td>\n",
       "      <td>N E W O R L E A N S — W h e n e v e r a V i r ...</td>\n",
       "    </tr>\n",
       "    <tr>\n",
       "      <th>1</th>\n",
       "      <td>inevitably the first road game in 2008 against...</td>\n",
       "      <td>inevitably the first road game in 2008 against...</td>\n",
       "      <td>i n e v i t a b l y ## t h e ## f i r s t ## r...</td>\n",
       "      <td>i n e v i t a b l y t h e f i r s t r o a d g ...</td>\n",
       "    </tr>\n",
       "    <tr>\n",
       "      <th>2</th>\n",
       "      <td>Midway through the first quarter</td>\n",
       "      <td>Midway through the first quarter</td>\n",
       "      <td>M i d w a y ## t h r o u g h ## t h e ## f i r...</td>\n",
       "      <td>M i d w a y t h r o u g h t h e f i r s t q u ...</td>\n",
       "    </tr>\n",
       "    <tr>\n",
       "      <th>3</th>\n",
       "      <td>Virginia Tech had to call two timeouts in a ro...</td>\n",
       "      <td>Virginia Tech had to call two timeouts in a ro...</td>\n",
       "      <td>V i r g i n i a ## T e c h ## h a d ## t o ## ...</td>\n",
       "      <td>V i r g i n i a T e c h h a d t o c a l l t w ...</td>\n",
       "    </tr>\n",
       "    <tr>\n",
       "      <th>4</th>\n",
       "      <td>and</td>\n",
       "      <td>and</td>\n",
       "      <td>a n d</td>\n",
       "      <td>a n d</td>\n",
       "    </tr>\n",
       "  </tbody>\n",
       "</table>\n",
       "</div>"
      ],
      "text/plain": [
       "                                                   0  \\\n",
       "0  NEW ORLEANS — Whenever a Virginia Tech offensi...   \n",
       "1  inevitably the first road game in 2008 against...   \n",
       "2                   Midway through the first quarter   \n",
       "3  Virginia Tech had to call two timeouts in a ro...   \n",
       "4                                                and   \n",
       "\n",
       "                                            original  \\\n",
       "0  NEW ORLEANS — Whenever a Virginia Tech offensi...   \n",
       "1  inevitably the first road game in 2008 against...   \n",
       "2                   Midway through the first quarter   \n",
       "3  Virginia Tech had to call two timeouts in a ro...   \n",
       "4                                                and   \n",
       "\n",
       "                                            expected  \\\n",
       "0  N E W ## O R L E A N S ## — ## W h e n e v e r...   \n",
       "1  i n e v i t a b l y ## t h e ## f i r s t ## r...   \n",
       "2  M i d w a y ## t h r o u g h ## t h e ## f i r...   \n",
       "3  V i r g i n i a ## T e c h ## h a d ## t o ## ...   \n",
       "4                                              a n d   \n",
       "\n",
       "                                            sentence  \n",
       "0  N E W O R L E A N S — W h e n e v e r a V i r ...  \n",
       "1  i n e v i t a b l y t h e f i r s t r o a d g ...  \n",
       "2  M i d w a y t h r o u g h t h e f i r s t q u ...  \n",
       "3  V i r g i n i a T e c h h a d t o c a l l t w ...  \n",
       "4                                              a n d  "
      ]
     },
     "execution_count": 13,
     "metadata": {},
     "output_type": "execute_result"
    }
   ],
   "source": [
    "df['original'] = df[0]\n",
    "\n",
    "# expected output. 'hello world' become 'h e l l o # w o r l d'\n",
    "df['expected'] = df[0].apply(lambda x: ' ## '.join([' '.join(w) for w in x.split(' ')]))\n",
    "\n",
    "# input. 'hello world' become 'h e l l o w o r l d'\n",
    "df['sentence'] = df[0].apply(lambda x: ' '.join([' '.join(w) for w in x.split(' ')]))\n",
    "print(len(df))\n",
    "df.head()"
   ]
  },
  {
   "cell_type": "code",
   "execution_count": 14,
   "id": "05dcf7b6-5626-4bb8-984c-4dc3531f1d95",
   "metadata": {},
   "outputs": [],
   "source": [
    "df = df.sample(frac=1.0)\n",
    "pair_list = list(zip(df['sentence'].values, df['expected'].values))\n",
    "\n",
    "train_length = int(0.8 * len(pair_list))\n",
    "eval_test_length = int(0.1 * len(pair_list))\n",
    "\n",
    "tmp = pair_list\n",
    "#train set\n",
    "train_l = tmp[:train_length]\n",
    "\n",
    "tmp = tmp[train_length:]\n",
    "#validation set\n",
    "eval_l = tmp[:eval_test_length]\n",
    "\n",
    "tmp = tmp[eval_test_length:]\n",
    "#test set\n",
    "test_l = tmp[:eval_test_length]"
   ]
  },
  {
   "cell_type": "code",
   "execution_count": 15,
   "id": "2cc9b3b3-ff40-4498-9751-83bd8e298c74",
   "metadata": {},
   "outputs": [],
   "source": [
    "#list of string saved to file\n",
    "def list_to_file(list, filename):\n",
    "    with open(filename, 'w') as fp:\n",
    "        for el in list:\n",
    "            fp.write(f\"{el}\\n\")\n",
    "\n",
    "#split (train-test,validation) saved to files\n",
    "def split_to_files(split, name):\n",
    "    list_to_file([s for s,_ in split], f\"./{name}-source.txt\")\n",
    "    list_to_file([t for _,t in split], f\"./{name}-target.txt\")"
   ]
  },
  {
   "cell_type": "code",
   "execution_count": 16,
   "id": "f9dcbd7e-7ea8-4eca-a956-2b8deccc39fb",
   "metadata": {
    "editable": true,
    "slideshow": {
     "slide_type": ""
    },
    "tags": []
   },
   "outputs": [],
   "source": [
    "splits = {\n",
    "    'train' : train_l,\n",
    "    'test' : test_l,\n",
    "    'eval' : eval_l\n",
    "}\n",
    "for k,v in splits.items():\n",
    "    split_to_files(v,k)"
   ]
  }
 ],
 "metadata": {
  "kernelspec": {
   "display_name": "Python 3 (ipykernel)",
   "language": "python",
   "name": "python3"
  },
  "language_info": {
   "codemirror_mode": {
    "name": "ipython",
    "version": 3
   },
   "file_extension": ".py",
   "mimetype": "text/x-python",
   "name": "python",
   "nbconvert_exporter": "python",
   "pygments_lexer": "ipython3",
   "version": "3.11.4"
  }
 },
 "nbformat": 4,
 "nbformat_minor": 5
}
