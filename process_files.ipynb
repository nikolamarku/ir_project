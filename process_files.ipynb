{
 "cells": [
  {
   "cell_type": "code",
   "execution_count": 1,
   "metadata": {
    "executionInfo": {
     "elapsed": 5,
     "status": "ok",
     "timestamp": 1689457025709,
     "user": {
      "displayName": "Nikola Marku",
      "userId": "03459746780709683744"
     },
     "user_tz": -120
    },
    "id": "CBhx4Inwc84j"
   },
   "outputs": [],
   "source": [
    "import pandas as pd\n",
    "from nltk.tokenize import word_tokenize\n",
    "import nltk\n",
    "import string\n",
    "import unicodedata\n",
    "import re"
   ]
  },
  {
   "cell_type": "code",
   "execution_count": 2,
   "metadata": {
    "colab": {
     "base_uri": "https://localhost:8080/"
    },
    "executionInfo": {
     "elapsed": 520,
     "status": "ok",
     "timestamp": 1689457030513,
     "user": {
      "displayName": "Nikola Marku",
      "userId": "03459746780709683744"
     },
     "user_tz": -120
    },
    "id": "-X4dL5DDfEaH",
    "outputId": "f4f345d1-4f6a-48f0-c2f1-9dd9172efa52"
   },
   "outputs": [
    {
     "name": "stderr",
     "output_type": "stream",
     "text": [
      "[nltk_data] Downloading package punkt to /home/jovyan/nltk_data...\n",
      "[nltk_data]   Package punkt is already up-to-date!\n"
     ]
    },
    {
     "data": {
      "text/plain": [
       "True"
      ]
     },
     "execution_count": 2,
     "metadata": {},
     "output_type": "execute_result"
    }
   ],
   "source": [
    "nltk.download('punkt')"
   ]
  },
  {
   "cell_type": "code",
   "execution_count": 42,
   "metadata": {
    "editable": true,
    "executionInfo": {
     "elapsed": 3,
     "status": "ok",
     "timestamp": 1689457168241,
     "user": {
      "displayName": "Nikola Marku",
      "userId": "03459746780709683744"
     },
     "user_tz": -120
    },
    "id": "1cQDxHXieT00",
    "slideshow": {
     "slide_type": ""
    },
    "tags": []
   },
   "outputs": [],
   "source": [
    "\n",
    "def unicodeToAscii(s):\n",
    "    return ''.join(\n",
    "        c for c in unicodedata.normalize('NFD', s)\n",
    "        if unicodedata.category(c) != 'Mn'\n",
    "    )\n",
    "\n",
    "def clean_text(text):\n",
    "    return unicodeToAscii(re.sub(r\"”|“\",'\"',text).replace(\"’\",\"'\"))\n",
    "\n",
    "\n",
    "def build_structure(input):\n",
    "    acc = []\n",
    "    stack = []\n",
    "    for token in input:\n",
    "        if token == \"'s\":\n",
    "            acc = acc[:-1] + [(acc[-1] + token) if len(acc) > 0 else token]\n",
    "        elif token in (list(string.punctuation) + [\"''\",\"``\",\"’\"]):\n",
    "            stack += [(' '.join(acc),token + ' ')]\n",
    "            acc = []\n",
    "        else:\n",
    "            acc += [token]\n",
    "    stack += [(' '.join(acc),None)]\n",
    "    res = None\n",
    "    for x in stack[::-1]:\n",
    "        res = (x[0],x[1],res)\n",
    "    return res\n",
    "\n",
    "\n",
    "def structure_to_sentences(structure):\n",
    "    res = []\n",
    "    next = structure\n",
    "    while next is not None:\n",
    "        str, sep, next = next\n",
    "        if len(str) > 0:\n",
    "            res += [str]\n",
    "    return res\n",
    "\n",
    "def transf(s):\n",
    "    return structure_to_sentences(build_structure(word_tokenize(clean_text(s))))"
   ]
  },
  {
   "cell_type": "code",
   "execution_count": 41,
   "metadata": {
    "colab": {
     "base_uri": "https://localhost:8080/"
    },
    "executionInfo": {
     "elapsed": 5,
     "status": "ok",
     "timestamp": 1689457240005,
     "user": {
      "displayName": "Nikola Marku",
      "userId": "03459746780709683744"
     },
     "user_tz": -120
    },
    "id": "tyJNwU0ve-3q",
    "outputId": "4d8476f5-7364-42b0-87ea-a0dbc3507364"
   },
   "outputs": [
    {
     "name": "stdout",
     "output_type": "stream",
     "text": [
      "ns over Europe's debt heat up again Barnes and Noble considers Nook spin-off\n"
     ]
    },
    {
     "data": {
      "text/plain": [
       "[\"ns over Europe's debt heat up again Barnes and Noble considers Nook spin-off\"]"
      ]
     },
     "execution_count": 41,
     "metadata": {},
     "output_type": "execute_result"
    }
   ],
   "source": [
    "transf('ns over Europe\\'s debt heat up again Barnes and Noble considers Nook spin-off')"
   ]
  },
  {
   "cell_type": "code",
   "execution_count": 43,
   "metadata": {
    "colab": {
     "base_uri": "https://localhost:8080/",
     "height": 415
    },
    "editable": true,
    "executionInfo": {
     "elapsed": 278323,
     "status": "error",
     "timestamp": 1689457570084,
     "user": {
      "displayName": "Nikola Marku",
      "userId": "03459746780709683744"
     },
     "user_tz": -120
    },
    "id": "Xdokx8rbem2A",
    "outputId": "fdbcbd9b-4b99-47e2-fb46-df25c5f8edbe",
    "slideshow": {
     "slide_type": ""
    },
    "tags": []
   },
   "outputs": [
    {
     "name": "stdout",
     "output_type": "stream",
     "text": [
      "index: 1\n",
      "index: 2\n",
      "index: 3\n",
      "index: 4\n",
      "index: 5\n"
     ]
    }
   ],
   "source": [
    "for df_index in range(1,6):\n",
    "    print(f'index: {df_index}')\n",
    "    df = pd.read_json(f'./train{df_index}.json',lines=True)\n",
    "    f = open(f'./dataset{df_index}.txt','w')\n",
    "    for index, row in df.iterrows():\n",
    "        sentences = transf(row['text'])\n",
    "        for sentence in sentences:\n",
    "            f.write(sentence+'\\n')\n",
    "    f.close()"
   ]
  }
 ],
 "metadata": {
  "colab": {
   "authorship_tag": "ABX9TyP8O1XQbnPQwBm4NyMcJWIE",
   "mount_file_id": "1MCyeUsMrZmANcT34HANS7DkT-sdNldDO",
   "provenance": []
  },
  "kernelspec": {
   "display_name": "Python 3 (ipykernel)",
   "language": "python",
   "name": "python3"
  },
  "language_info": {
   "codemirror_mode": {
    "name": "ipython",
    "version": 3
   },
   "file_extension": ".py",
   "mimetype": "text/x-python",
   "name": "python",
   "nbconvert_exporter": "python",
   "pygments_lexer": "ipython3",
   "version": "3.11.4"
  }
 },
 "nbformat": 4,
 "nbformat_minor": 4
}
