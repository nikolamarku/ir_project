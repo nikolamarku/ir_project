{
 "cells": [
  {
   "cell_type": "code",
   "execution_count": null,
   "id": "ae296f66-f158-4ed1-8c0a-0050a9489e6e",
   "metadata": {},
   "outputs": [],
   "source": [
    "!pip install torchmetrics"
   ]
  },
  {
   "cell_type": "code",
   "execution_count": 43,
   "id": "5eae0e78-e403-424d-92ce-98b90f06ed72",
   "metadata": {},
   "outputs": [],
   "source": [
    "import pandas as pd\n",
    "import matplotlib.pyplot as plt"
   ]
  },
  {
   "cell_type": "code",
   "execution_count": 44,
   "id": "f3f17f09-e56d-4942-a25c-972723228c07",
   "metadata": {
    "editable": true,
    "slideshow": {
     "slide_type": ""
    },
    "tags": []
   },
   "outputs": [],
   "source": [
    "f = open(\"test-target.txt\",\"r\")\n",
    "test_l = f.read().split(\"\\n\")\n",
    "f.close()\n",
    "f = open(\"translation.txt\",\"r\")\n",
    "predicted_l = f.read().split(\"\\n\")\n",
    "f.close()\n",
    "len(test_l), len(predicted_l)\n",
    "test_l = test_l[:-1]\n",
    "predicted_l = predicted_l[:-1]"
   ]
  },
  {
   "cell_type": "code",
   "execution_count": 45,
   "id": "867bcb67-53dc-41ac-b6c4-fbbe14a42823",
   "metadata": {},
   "outputs": [],
   "source": [
    "from jiwer import wer\n",
    "import numpy as np"
   ]
  },
  {
   "cell_type": "code",
   "execution_count": 46,
   "id": "7349fc45-25b5-49b0-b8ff-4a75b1cb00a7",
   "metadata": {},
   "outputs": [],
   "source": [
    "pair_l = [(pred,test) for pred,test in zip(predicted_l,test_l) if len(test.split('##')) > 1]\n",
    "predicted_l = [pred.replace(' ','').replace('##',' ') for pred,_ in pair_l]\n",
    "test_l = [test.replace(' ','').replace('##',' ') for _,test in pair_l]"
   ]
  },
  {
   "cell_type": "code",
   "execution_count": 47,
   "id": "1a787a81-2c28-4e71-aa36-591a0515d634",
   "metadata": {},
   "outputs": [],
   "source": [
    "wers = [wer(test,pred) for pred,test in zip(predicted_l, test_l)]"
   ]
  },
  {
   "cell_type": "code",
   "execution_count": 48,
   "id": "3ed40f55-19b0-4c4e-9488-5490d0f12395",
   "metadata": {},
   "outputs": [
    {
     "data": {
      "text/plain": [
       "0.03585166250321433"
      ]
     },
     "execution_count": 48,
     "metadata": {},
     "output_type": "execute_result"
    }
   ],
   "source": [
    "sum(wers)/len(predicted_l)"
   ]
  },
  {
   "cell_type": "code",
   "execution_count": 49,
   "id": "e7a12b0c-d8b3-4d5e-b7a7-373bbcb8ad1a",
   "metadata": {},
   "outputs": [],
   "source": [
    "df = pd.DataFrame({'sl': [len(x.split(' ')) for x in test_l], 'wer':wers})"
   ]
  },
  {
   "cell_type": "code",
   "execution_count": 53,
   "id": "7a05c663-4485-44a9-bd99-2f383dce3e9c",
   "metadata": {},
   "outputs": [],
   "source": [
    "def precision(pred,gt):\n",
    "    words_pred = set(pred.split(' '))\n",
    "    words_gt = set(gt.split(' '))\n",
    "    return len(set.intersection(words_pred,words_gt)) / len(pred.split(' '))\n",
    "\n",
    "P = (sum([precision(pred,test) for (pred,test) in zip(predicted_l,test_l)])/len(test_l)) * 100"
   ]
  },
  {
   "cell_type": "code",
   "execution_count": 54,
   "id": "18981230-959f-431f-aed6-acffe865f86f",
   "metadata": {},
   "outputs": [],
   "source": [
    "def recall(pred,gt):\n",
    "    words_pred = set(pred.split(' '))\n",
    "    words_gt = set(gt.split(' '))\n",
    "    return len(set.intersection(words_pred,words_gt)) / len(gt.split(' '))\n",
    "\n",
    "R = (sum([recall(pred,test) for (pred,test) in zip(predicted_l,test_l)])/len(test_l)) * 100"
   ]
  },
  {
   "cell_type": "code",
   "execution_count": 55,
   "id": "8c51a27b-9aeb-495d-8695-36e3f7b08c84",
   "metadata": {},
   "outputs": [
    {
     "data": {
      "text/plain": [
       "(95.03444775265329, 95.0633247532979, 95.04888405968013)"
      ]
     },
     "execution_count": 55,
     "metadata": {},
     "output_type": "execute_result"
    }
   ],
   "source": [
    "P,R,2/((1/P) + (1/R))"
   ]
  },
  {
   "cell_type": "code",
   "execution_count": 13,
   "id": "c431b17e-89a6-4941-92da-ef1af8cca363",
   "metadata": {},
   "outputs": [],
   "source": [
    "from Levenshtein import distance\n",
    "distances =[distance(s,t) for s,t in zip(test_l,predicted_l)]"
   ]
  },
  {
   "cell_type": "code",
   "execution_count": 14,
   "id": "2c98d498-da93-405b-9d28-58a056715fc2",
   "metadata": {},
   "outputs": [
    {
     "data": {
      "text/plain": [
       "0.36157575158855887"
      ]
     },
     "execution_count": 14,
     "metadata": {},
     "output_type": "execute_result"
    }
   ],
   "source": [
    "sum(distances)/len(predicted_l)"
   ]
  },
  {
   "cell_type": "code",
   "execution_count": 42,
   "id": "26b5eb15-79c6-4578-95a5-40fc178c72df",
   "metadata": {},
   "outputs": [],
   "source": [
    "df.to_csv('plots/testset.csv')"
   ]
  }
 ],
 "metadata": {
  "kernelspec": {
   "display_name": "Python 3 (ipykernel)",
   "language": "python",
   "name": "python3"
  },
  "language_info": {
   "codemirror_mode": {
    "name": "ipython",
    "version": 3
   },
   "file_extension": ".py",
   "mimetype": "text/x-python",
   "name": "python",
   "nbconvert_exporter": "python",
   "pygments_lexer": "ipython3",
   "version": "3.11.4"
  }
 },
 "nbformat": 4,
 "nbformat_minor": 5
}
